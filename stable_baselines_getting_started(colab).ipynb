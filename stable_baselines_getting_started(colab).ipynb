{
  "nbformat": 4,
  "nbformat_minor": 0,
  "metadata": {
    "colab": {
      "name": "1_getting_started.ipynb",
      "provenance": [],
      "collapsed_sections": [],
      "include_colab_link": true
    },
    "kernelspec": {
      "name": "python3",
      "display_name": "Python 3"
    },
    "accelerator": "GPU"
  },
  "cells": [
    {
      "cell_type": "markdown",
      "metadata": {
        "id": "view-in-github",
        "colab_type": "text"
      },
      "source": [
        "<a href=\"https://colab.research.google.com/github/StevenJokess/rl-colab-notebooks/blob/sb3/stable_baselines_getting_started(colab).ipynb\" target=\"_parent\"><img src=\"https://colab.research.google.com/assets/colab-badge.svg\" alt=\"Open In Colab\"/></a>"
      ]
    },
    {
      "cell_type": "markdown",
      "metadata": {
        "id": "hyyN-2qyK_T2"
      },
      "source": [
        "# Stable Baselines3 Tutorial - Getting Started\n",
        "\n",
        "Github repo: https://github.com/araffin/rl-tutorial-jnrr19\n",
        "\n",
        "Stable-Baselines3: https://github.com/DLR-RM/stable-baselines3\n",
        "\n",
        "Documentation: https://stable-baselines.readthedocs.io/en/master/\n",
        "\n",
        "RL Baselines3 zoo: https://github.com/DLR-RM/rl-baselines3-zoo\n",
        "\n",
        "\n",
        "[RL Baselines3 Zoo](https://github.com/DLR-RM/rl-baselines3-zoo) is a collection of pre-trained Reinforcement Learning agents using Stable-Baselines3.\n",
        "\n",
        "It also provides basic scripts for training, evaluating agents, tuning hyperparameters and recording videos.\n",
        "\n",
        "\n",
        "## Introduction\n",
        "\n",
        "In this notebook, you will learn the basics for using stable baselines3 library: how to create a RL model, train it and evaluate it. Because all algorithms share the same interface, we will see how simple it is to switch from one algorithm to another.\n",
        "\n",
        "\n",
        "## Install Dependencies and Stable Baselines3 Using Pip\n",
        "\n",
        "List of full dependencies can be found in the [README](https://github.com/DLR-RM/stable-baselines3).\n",
        "\n",
        "\n",
        "```\n",
        "pip install stable-baselines3[extra]\n",
        "```"
      ]
    },
    {
      "cell_type": "code",
      "metadata": {
        "id": "gWskDE2c9WoN",
        "colab": {
          "base_uri": "https://localhost:8080/"
        },
        "outputId": "44672d6c-3f4c-449d-f631-58e4e018dcf1"
      },
      "source": [
        "!apt-get install ffmpeg freeglut3-dev xvfb  # For visualization\n",
        "!pip install stable-baselines3[extra]"
      ],
      "execution_count": 1,
      "outputs": [
        {
          "output_type": "stream",
          "text": [
            "Reading package lists... Done\n",
            "Building dependency tree       \n",
            "Reading state information... Done\n",
            "freeglut3-dev is already the newest version (2.8.1-3).\n",
            "freeglut3-dev set to manually installed.\n",
            "ffmpeg is already the newest version (7:3.4.8-0ubuntu0.2).\n",
            "The following NEW packages will be installed:\n",
            "  xvfb\n",
            "0 upgraded, 1 newly installed, 0 to remove and 16 not upgraded.\n",
            "Need to get 784 kB of archives.\n",
            "After this operation, 2,270 kB of additional disk space will be used.\n",
            "Get:1 http://archive.ubuntu.com/ubuntu bionic-updates/universe amd64 xvfb amd64 2:1.19.6-1ubuntu4.8 [784 kB]\n",
            "Fetched 784 kB in 1s (668 kB/s)\n",
            "Selecting previously unselected package xvfb.\n",
            "(Reading database ... 145483 files and directories currently installed.)\n",
            "Preparing to unpack .../xvfb_2%3a1.19.6-1ubuntu4.8_amd64.deb ...\n",
            "Unpacking xvfb (2:1.19.6-1ubuntu4.8) ...\n",
            "Setting up xvfb (2:1.19.6-1ubuntu4.8) ...\n",
            "Processing triggers for man-db (2.8.3-2ubuntu0.1) ...\n",
            "Collecting stable-baselines3[extra]\n",
            "\u001b[?25l  Downloading https://files.pythonhosted.org/packages/76/7c/ec89fd9a51c2ff640f150479069be817136c02f02349b5dd27a6e3bb8b3d/stable_baselines3-0.10.0-py3-none-any.whl (145kB)\n",
            "\u001b[K     |████████████████████████████████| 153kB 8.1MB/s \n",
            "\u001b[?25hRequirement already satisfied: cloudpickle in /usr/local/lib/python3.6/dist-packages (from stable-baselines3[extra]) (1.3.0)\n",
            "Requirement already satisfied: gym>=0.17 in /usr/local/lib/python3.6/dist-packages (from stable-baselines3[extra]) (0.17.3)\n",
            "Requirement already satisfied: torch>=1.4.0 in /usr/local/lib/python3.6/dist-packages (from stable-baselines3[extra]) (1.7.0+cu101)\n",
            "Requirement already satisfied: matplotlib in /usr/local/lib/python3.6/dist-packages (from stable-baselines3[extra]) (3.2.2)\n",
            "Requirement already satisfied: numpy in /usr/local/lib/python3.6/dist-packages (from stable-baselines3[extra]) (1.19.5)\n",
            "Requirement already satisfied: pandas in /usr/local/lib/python3.6/dist-packages (from stable-baselines3[extra]) (1.1.5)\n",
            "Requirement already satisfied: psutil; extra == \"extra\" in /usr/local/lib/python3.6/dist-packages (from stable-baselines3[extra]) (5.4.8)\n",
            "Requirement already satisfied: tensorboard; extra == \"extra\" in /usr/local/lib/python3.6/dist-packages (from stable-baselines3[extra]) (2.4.0)\n",
            "Requirement already satisfied: pillow; extra == \"extra\" in /usr/local/lib/python3.6/dist-packages (from stable-baselines3[extra]) (7.0.0)\n",
            "Requirement already satisfied: atari-py~=0.2.0; extra == \"extra\" in /usr/local/lib/python3.6/dist-packages (from stable-baselines3[extra]) (0.2.6)\n",
            "Requirement already satisfied: opencv-python; extra == \"extra\" in /usr/local/lib/python3.6/dist-packages (from stable-baselines3[extra]) (4.1.2.30)\n",
            "Requirement already satisfied: scipy in /usr/local/lib/python3.6/dist-packages (from gym>=0.17->stable-baselines3[extra]) (1.4.1)\n",
            "Requirement already satisfied: pyglet<=1.5.0,>=1.4.0 in /usr/local/lib/python3.6/dist-packages (from gym>=0.17->stable-baselines3[extra]) (1.5.0)\n",
            "Requirement already satisfied: dataclasses in /usr/local/lib/python3.6/dist-packages (from torch>=1.4.0->stable-baselines3[extra]) (0.8)\n",
            "Requirement already satisfied: future in /usr/local/lib/python3.6/dist-packages (from torch>=1.4.0->stable-baselines3[extra]) (0.16.0)\n",
            "Requirement already satisfied: typing-extensions in /usr/local/lib/python3.6/dist-packages (from torch>=1.4.0->stable-baselines3[extra]) (3.7.4.3)\n",
            "Requirement already satisfied: kiwisolver>=1.0.1 in /usr/local/lib/python3.6/dist-packages (from matplotlib->stable-baselines3[extra]) (1.3.1)\n",
            "Requirement already satisfied: pyparsing!=2.0.4,!=2.1.2,!=2.1.6,>=2.0.1 in /usr/local/lib/python3.6/dist-packages (from matplotlib->stable-baselines3[extra]) (2.4.7)\n",
            "Requirement already satisfied: cycler>=0.10 in /usr/local/lib/python3.6/dist-packages (from matplotlib->stable-baselines3[extra]) (0.10.0)\n",
            "Requirement already satisfied: python-dateutil>=2.1 in /usr/local/lib/python3.6/dist-packages (from matplotlib->stable-baselines3[extra]) (2.8.1)\n",
            "Requirement already satisfied: pytz>=2017.2 in /usr/local/lib/python3.6/dist-packages (from pandas->stable-baselines3[extra]) (2018.9)\n",
            "Requirement already satisfied: wheel>=0.26; python_version >= \"3\" in /usr/local/lib/python3.6/dist-packages (from tensorboard; extra == \"extra\"->stable-baselines3[extra]) (0.36.2)\n",
            "Requirement already satisfied: grpcio>=1.24.3 in /usr/local/lib/python3.6/dist-packages (from tensorboard; extra == \"extra\"->stable-baselines3[extra]) (1.32.0)\n",
            "Requirement already satisfied: protobuf>=3.6.0 in /usr/local/lib/python3.6/dist-packages (from tensorboard; extra == \"extra\"->stable-baselines3[extra]) (3.12.4)\n",
            "Requirement already satisfied: setuptools>=41.0.0 in /usr/local/lib/python3.6/dist-packages (from tensorboard; extra == \"extra\"->stable-baselines3[extra]) (51.1.1)\n",
            "Requirement already satisfied: six>=1.10.0 in /usr/local/lib/python3.6/dist-packages (from tensorboard; extra == \"extra\"->stable-baselines3[extra]) (1.15.0)\n",
            "Requirement already satisfied: markdown>=2.6.8 in /usr/local/lib/python3.6/dist-packages (from tensorboard; extra == \"extra\"->stable-baselines3[extra]) (3.3.3)\n",
            "Requirement already satisfied: tensorboard-plugin-wit>=1.6.0 in /usr/local/lib/python3.6/dist-packages (from tensorboard; extra == \"extra\"->stable-baselines3[extra]) (1.7.0)\n",
            "Requirement already satisfied: absl-py>=0.4 in /usr/local/lib/python3.6/dist-packages (from tensorboard; extra == \"extra\"->stable-baselines3[extra]) (0.10.0)\n",
            "Requirement already satisfied: werkzeug>=0.11.15 in /usr/local/lib/python3.6/dist-packages (from tensorboard; extra == \"extra\"->stable-baselines3[extra]) (1.0.1)\n",
            "Requirement already satisfied: requests<3,>=2.21.0 in /usr/local/lib/python3.6/dist-packages (from tensorboard; extra == \"extra\"->stable-baselines3[extra]) (2.23.0)\n",
            "Requirement already satisfied: google-auth-oauthlib<0.5,>=0.4.1 in /usr/local/lib/python3.6/dist-packages (from tensorboard; extra == \"extra\"->stable-baselines3[extra]) (0.4.2)\n",
            "Requirement already satisfied: google-auth<2,>=1.6.3 in /usr/local/lib/python3.6/dist-packages (from tensorboard; extra == \"extra\"->stable-baselines3[extra]) (1.17.2)\n",
            "Requirement already satisfied: importlib-metadata; python_version < \"3.8\" in /usr/local/lib/python3.6/dist-packages (from markdown>=2.6.8->tensorboard; extra == \"extra\"->stable-baselines3[extra]) (3.3.0)\n",
            "Requirement already satisfied: certifi>=2017.4.17 in /usr/local/lib/python3.6/dist-packages (from requests<3,>=2.21.0->tensorboard; extra == \"extra\"->stable-baselines3[extra]) (2020.12.5)\n",
            "Requirement already satisfied: urllib3!=1.25.0,!=1.25.1,<1.26,>=1.21.1 in /usr/local/lib/python3.6/dist-packages (from requests<3,>=2.21.0->tensorboard; extra == \"extra\"->stable-baselines3[extra]) (1.24.3)\n",
            "Requirement already satisfied: idna<3,>=2.5 in /usr/local/lib/python3.6/dist-packages (from requests<3,>=2.21.0->tensorboard; extra == \"extra\"->stable-baselines3[extra]) (2.10)\n",
            "Requirement already satisfied: chardet<4,>=3.0.2 in /usr/local/lib/python3.6/dist-packages (from requests<3,>=2.21.0->tensorboard; extra == \"extra\"->stable-baselines3[extra]) (3.0.4)\n",
            "Requirement already satisfied: requests-oauthlib>=0.7.0 in /usr/local/lib/python3.6/dist-packages (from google-auth-oauthlib<0.5,>=0.4.1->tensorboard; extra == \"extra\"->stable-baselines3[extra]) (1.3.0)\n",
            "Requirement already satisfied: rsa<5,>=3.1.4; python_version >= \"3\" in /usr/local/lib/python3.6/dist-packages (from google-auth<2,>=1.6.3->tensorboard; extra == \"extra\"->stable-baselines3[extra]) (4.6)\n",
            "Requirement already satisfied: cachetools<5.0,>=2.0.0 in /usr/local/lib/python3.6/dist-packages (from google-auth<2,>=1.6.3->tensorboard; extra == \"extra\"->stable-baselines3[extra]) (4.2.0)\n",
            "Requirement already satisfied: pyasn1-modules>=0.2.1 in /usr/local/lib/python3.6/dist-packages (from google-auth<2,>=1.6.3->tensorboard; extra == \"extra\"->stable-baselines3[extra]) (0.2.8)\n",
            "Requirement already satisfied: zipp>=0.5 in /usr/local/lib/python3.6/dist-packages (from importlib-metadata; python_version < \"3.8\"->markdown>=2.6.8->tensorboard; extra == \"extra\"->stable-baselines3[extra]) (3.4.0)\n",
            "Requirement already satisfied: oauthlib>=3.0.0 in /usr/local/lib/python3.6/dist-packages (from requests-oauthlib>=0.7.0->google-auth-oauthlib<0.5,>=0.4.1->tensorboard; extra == \"extra\"->stable-baselines3[extra]) (3.1.0)\n",
            "Requirement already satisfied: pyasn1>=0.1.3 in /usr/local/lib/python3.6/dist-packages (from rsa<5,>=3.1.4; python_version >= \"3\"->google-auth<2,>=1.6.3->tensorboard; extra == \"extra\"->stable-baselines3[extra]) (0.4.8)\n",
            "Installing collected packages: stable-baselines3\n",
            "Successfully installed stable-baselines3-0.10.0\n"
          ],
          "name": "stdout"
        }
      ]
    },
    {
      "cell_type": "code",
      "metadata": {
        "id": "U29X1-B-AIKE",
        "colab": {
          "base_uri": "https://localhost:8080/",
          "height": 35
        },
        "outputId": "d4a879e7-2027-4bc3-f1d3-f0e446b0c1bc"
      },
      "source": [
        "import stable_baselines3\n",
        "stable_baselines3.__version__"
      ],
      "execution_count": 2,
      "outputs": [
        {
          "output_type": "execute_result",
          "data": {
            "application/vnd.google.colaboratory.intrinsic+json": {
              "type": "string"
            },
            "text/plain": [
              "'0.10.0'"
            ]
          },
          "metadata": {
            "tags": []
          },
          "execution_count": 2
        }
      ]
    },
    {
      "cell_type": "markdown",
      "metadata": {
        "id": "FtY8FhliLsGm"
      },
      "source": [
        "## Imports"
      ]
    },
    {
      "cell_type": "markdown",
      "metadata": {
        "id": "gcX8hEcaUpR0"
      },
      "source": [
        "Stable-Baselines works on environments that follow the [gym interface](https://stable-baselines.readthedocs.io/en/master/guide/custom_env.html).\n",
        "You can find a list of available environment [here](https://gym.openai.com/envs/#classic_control).\n",
        "\n",
        "It is also recommended to check the [source code](https://github.com/openai/gym) to learn more about the observation and action space of each env, as gym does not have a proper documentation.\n",
        "Not all algorithms can work with all action spaces, you can find more in this [recap table](https://stable-baselines.readthedocs.io/en/master/guide/algos.html)"
      ]
    },
    {
      "cell_type": "code",
      "metadata": {
        "id": "BIedd7Pz9sOs"
      },
      "source": [
        "import gym\n",
        "import numpy as np"
      ],
      "execution_count": 3,
      "outputs": []
    },
    {
      "cell_type": "markdown",
      "metadata": {
        "id": "Ae32CtgzTG3R"
      },
      "source": [
        "The first thing you need to import is the RL model, check the documentation to know what you can use on which problem"
      ]
    },
    {
      "cell_type": "code",
      "metadata": {
        "id": "R7tKaBFrTR0a"
      },
      "source": [
        "from stable_baselines3 import PPO"
      ],
      "execution_count": 4,
      "outputs": []
    },
    {
      "cell_type": "markdown",
      "metadata": {
        "id": "-0_8OQbOTTNT"
      },
      "source": [
        "The next thing you need to import is the policy class that will be used to create the networks (for the policy/value functions).\n",
        "This step is optional as you can directly use strings in the constructor: \n",
        "\n",
        "```PPO('MlpPolicy', env)``` instead of ```PPO(MlpPolicy, env)```\n",
        "\n",
        "Note that some algorithms like `SAC` have their own `MlpPolicy`, that's why using string for the policy is the recommened option."
      ]
    },
    {
      "cell_type": "code",
      "metadata": {
        "id": "ROUJr675TT01"
      },
      "source": [
        "from stable_baselines3.ppo import MlpPolicy"
      ],
      "execution_count": 5,
      "outputs": []
    },
    {
      "cell_type": "markdown",
      "metadata": {
        "id": "RapkYvTXL7Cd"
      },
      "source": [
        "## Create the Gym env and instantiate the agent\n",
        "\n",
        "For this example, we will use CartPole environment, a classic control problem.\n",
        "\n",
        "\"A pole is attached by an un-actuated joint to a cart, which moves along a frictionless track. The system is controlled by applying a force of +1 or -1 to the cart. The pendulum starts upright, and the goal is to prevent it from falling over. A reward of +1 is provided for every timestep that the pole remains upright. \"\n",
        "\n",
        "Cartpole environment: [https://gym.openai.com/envs/CartPole-v1/](https://gym.openai.com/envs/CartPole-v1/)\n",
        "\n",
        "![Cartpole](https://cdn-images-1.medium.com/max/1143/1*h4WTQNVIsvMXJTCpXm_TAw.gif)\n",
        "\n",
        "Note: vectorized environments allow to easily multiprocess training. In this example, we are using only one process, hence the DummyVecEnv.\n",
        "\n",
        "We chose the MlpPolicy because input of CartPole is a feature vector, not images.\n",
        "\n",
        "The type of action to use (discrete/continuous) will be automatically deduced from the environment action space\n",
        "\n",
        "\n",
        "Here we are using the [Proximal Policy Optimization](https://stable-baselines.readthedocs.io/en/master/modules/ppo2.html) algorithm, which is an Actor-Critic method: it uses a value function to improve the policy gradient descent (by reducing the variance).\n",
        "\n",
        "It combines ideas from [A2C](https://stable-baselines.readthedocs.io/en/master/modules/a2c.html) (having multiple workers and using an entropy bonus for exploration) and [TRPO](https://stable-baselines.readthedocs.io/en/master/modules/trpo.html) (it uses a trust region to improve stability and avoid catastrophic drops in performance).\n",
        "\n",
        "PPO is an on-policy algorithm, which means that the trajectories used to update the networks must be collected using the latest policy.\n",
        "It is usually less sample efficient than off-policy alorithms like [DQN](https://stable-baselines.readthedocs.io/en/master/modules/dqn.html), [SAC](https://stable-baselines.readthedocs.io/en/master/modules/sac.html) or [TD3](https://stable-baselines.readthedocs.io/en/master/modules/td3.html), but is much faster regarding wall-clock time.\n"
      ]
    },
    {
      "cell_type": "code",
      "metadata": {
        "id": "pUWGZp3i9wyf"
      },
      "source": [
        "env = gym.make('CartPole-v1')\n",
        "\n",
        "model = PPO(MlpPolicy, env, verbose=0)"
      ],
      "execution_count": 6,
      "outputs": []
    },
    {
      "cell_type": "markdown",
      "metadata": {
        "id": "4efFdrQ7MBvl"
      },
      "source": [
        "We create a helper function to evaluate the agent:"
      ]
    },
    {
      "cell_type": "code",
      "metadata": {
        "id": "63M8mSKR-6Zt"
      },
      "source": [
        "def evaluate(model, num_episodes=100):\n",
        "    \"\"\"\n",
        "    Evaluate a RL agent\n",
        "    :param model: (BaseRLModel object) the RL Agent\n",
        "    :param num_episodes: (int) number of episodes to evaluate it\n",
        "    :return: (float) Mean reward for the last num_episodes\n",
        "    \"\"\"\n",
        "    # This function will only work for a single Environment\n",
        "    env = model.get_env()\n",
        "    all_episode_rewards = []\n",
        "    for i in range(num_episodes):\n",
        "        episode_rewards = []\n",
        "        done = False\n",
        "        obs = env.reset()\n",
        "        while not done:\n",
        "            # _states are only useful when using LSTM policies\n",
        "            action, _states = model.predict(obs)\n",
        "            # here, action, rewards and dones are arrays\n",
        "            # because we are using vectorized env\n",
        "            obs, reward, done, info = env.step(action)\n",
        "            episode_rewards.append(reward)\n",
        "\n",
        "        all_episode_rewards.append(sum(episode_rewards))\n",
        "\n",
        "    mean_episode_reward = np.mean(all_episode_rewards)\n",
        "    print(\"Mean reward:\", mean_episode_reward, \"Num episodes:\", num_episodes)\n",
        "\n",
        "    return mean_episode_reward"
      ],
      "execution_count": 7,
      "outputs": []
    },
    {
      "cell_type": "markdown",
      "metadata": {
        "id": "6hkyafs--gJz"
      },
      "source": [
        "In fact, Stable-Baselines3 already provides you with that helper:"
      ]
    },
    {
      "cell_type": "code",
      "metadata": {
        "id": "s6ZNldIR-fce"
      },
      "source": [
        "from stable_baselines3.common.evaluation import evaluate_policy"
      ],
      "execution_count": 8,
      "outputs": []
    },
    {
      "cell_type": "markdown",
      "metadata": {
        "id": "zjEVOIY8NVeK"
      },
      "source": [
        "Let's evaluate the un-trained agent, this should be a random agent."
      ]
    },
    {
      "cell_type": "code",
      "metadata": {
        "id": "xDHLMA6NFk95",
        "colab": {
          "base_uri": "https://localhost:8080/"
        },
        "outputId": "5f73b31c-39c8-4734-8c3e-1f81deb804fc"
      },
      "source": [
        "# Use a separate environement for evaluation\n",
        "eval_env = gym.make('CartPole-v1')\n",
        "\n",
        "# Random Agent, before training\n",
        "mean_reward, std_reward = evaluate_policy(model, eval_env, n_eval_episodes=100)\n",
        "\n",
        "print(f\"mean_reward:{mean_reward:.2f} +/- {std_reward:.2f}\")"
      ],
      "execution_count": 9,
      "outputs": [
        {
          "output_type": "stream",
          "text": [
            "mean_reward:81.87 +/- 18.67\n"
          ],
          "name": "stdout"
        }
      ]
    },
    {
      "cell_type": "markdown",
      "metadata": {
        "id": "r5UoXTZPNdFE"
      },
      "source": [
        "## Train the agent and evaluate it"
      ]
    },
    {
      "cell_type": "code",
      "metadata": {
        "id": "e4cfSXIB-pTF",
        "colab": {
          "base_uri": "https://localhost:8080/"
        },
        "outputId": "3d99c369-6096-45dc-a886-b12b6be7f4a2"
      },
      "source": [
        "# Train the agent for 10000 steps\n",
        "model.learn(total_timesteps=10000)"
      ],
      "execution_count": 10,
      "outputs": [
        {
          "output_type": "execute_result",
          "data": {
            "text/plain": [
              "<stable_baselines3.ppo.ppo.PPO at 0x7f3e3419d470>"
            ]
          },
          "metadata": {
            "tags": []
          },
          "execution_count": 10
        }
      ]
    },
    {
      "cell_type": "code",
      "metadata": {
        "id": "ygl_gVmV_QP7",
        "colab": {
          "base_uri": "https://localhost:8080/"
        },
        "outputId": "cbef3b8c-9ad2-416b-f7c6-f074a0096e3f"
      },
      "source": [
        "# Evaluate the trained agent\n",
        "mean_reward, std_reward = evaluate_policy(model, eval_env, n_eval_episodes=100)\n",
        "\n",
        "print(f\"mean_reward:{mean_reward:.2f} +/- {std_reward:.2f}\")"
      ],
      "execution_count": 11,
      "outputs": [
        {
          "output_type": "stream",
          "text": [
            "mean_reward:370.74 +/- 114.34\n"
          ],
          "name": "stdout"
        }
      ]
    },
    {
      "cell_type": "markdown",
      "metadata": {
        "id": "A00W6yY3NkHG"
      },
      "source": [
        "Apparently the training went well, the mean reward increased a lot ! "
      ]
    },
    {
      "cell_type": "markdown",
      "metadata": {
        "id": "xVm9QPNVwKXN"
      },
      "source": [
        "### Prepare video recording"
      ]
    },
    {
      "cell_type": "code",
      "metadata": {
        "id": "MPyfQxD5z26J"
      },
      "source": [
        "# Set up fake display; otherwise rendering will fail\n",
        "import os\n",
        "os.system(\"Xvfb :1 -screen 0 1024x768x24 &\")\n",
        "os.environ['DISPLAY'] = ':1'"
      ],
      "execution_count": 12,
      "outputs": []
    },
    {
      "cell_type": "code",
      "metadata": {
        "id": "SLzXxO8VMD6N"
      },
      "source": [
        "import base64\n",
        "from pathlib import Path\n",
        "\n",
        "from IPython import display as ipythondisplay\n",
        "\n",
        "def show_videos(video_path='', prefix=''):\n",
        "  \"\"\"\n",
        "  Taken from https://github.com/eleurent/highway-env\n",
        "\n",
        "  :param video_path: (str) Path to the folder containing videos\n",
        "  :param prefix: (str) Filter the video, showing only the only starting with this prefix\n",
        "  \"\"\"\n",
        "  html = []\n",
        "  for mp4 in Path(video_path).glob(\"{}*.mp4\".format(prefix)):\n",
        "      video_b64 = base64.b64encode(mp4.read_bytes())\n",
        "      html.append('''<video alt=\"{}\" autoplay \n",
        "                    loop controls style=\"height: 400px;\">\n",
        "                    <source src=\"data:video/mp4;base64,{}\" type=\"video/mp4\" />\n",
        "                </video>'''.format(mp4, video_b64.decode('ascii')))\n",
        "  ipythondisplay.display(ipythondisplay.HTML(data=\"<br>\".join(html)))"
      ],
      "execution_count": 13,
      "outputs": []
    },
    {
      "cell_type": "markdown",
      "metadata": {
        "id": "LTRNUfulOGaF"
      },
      "source": [
        "We will record a video using the [VecVideoRecorder](https://stable-baselines.readthedocs.io/en/master/guide/vec_envs.html#vecvideorecorder) wrapper, you will learn about those wrapper in the next notebook."
      ]
    },
    {
      "cell_type": "code",
      "metadata": {
        "id": "Trag9dQpOIhx"
      },
      "source": [
        "from stable_baselines3.common.vec_env import VecVideoRecorder, DummyVecEnv\n",
        "\n",
        "def record_video(env_id, model, video_length=500, prefix='', video_folder='videos/'):\n",
        "  \"\"\"\n",
        "  :param env_id: (str)\n",
        "  :param model: (RL model)\n",
        "  :param video_length: (int)\n",
        "  :param prefix: (str)\n",
        "  :param video_folder: (str)\n",
        "  \"\"\"\n",
        "  eval_env = DummyVecEnv([lambda: gym.make('CartPole-v1')])\n",
        "  # Start the video at step=0 and record 500 steps\n",
        "  eval_env = VecVideoRecorder(eval_env, video_folder=video_folder,\n",
        "                              record_video_trigger=lambda step: step == 0, video_length=video_length,\n",
        "                              name_prefix=prefix)\n",
        "\n",
        "  obs = eval_env.reset()\n",
        "  for _ in range(video_length):\n",
        "    action, _ = model.predict(obs)\n",
        "    obs, _, _, _ = eval_env.step(action)\n",
        "\n",
        "  # Close the video recorder\n",
        "  eval_env.close()"
      ],
      "execution_count": 14,
      "outputs": []
    },
    {
      "cell_type": "markdown",
      "metadata": {
        "id": "KOObbeu5MMlR"
      },
      "source": [
        "### Visualize trained agent\n",
        "\n"
      ]
    },
    {
      "cell_type": "code",
      "metadata": {
        "id": "iATu7AiyMQW2"
      },
      "source": [
        "record_video('CartPole-v1', model, video_length=500, prefix='ppo-cartpole')"
      ],
      "execution_count": 15,
      "outputs": []
    },
    {
      "cell_type": "code",
      "metadata": {
        "id": "-n4i-fW3NojZ",
        "colab": {
          "base_uri": "https://localhost:8080/",
          "height": 421
        },
        "outputId": "55d8db2f-4627-4315-d10f-3d80c0638d7e"
      },
      "source": [
        "show_videos('videos', prefix='ppo')"
      ],
      "execution_count": 16,
      "outputs": [
        {
          "output_type": "display_data",
          "data": {
            "text/html": [
              "<video alt=\"videos/ppo-cartpole-step-0-to-step-500.mp4\" autoplay \n",
              "                    loop controls style=\"height: 400px;\">\n",
              "                    <source src=\"data:video/mp4;base64,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\" type=\"video/mp4\" />\n",
              "                </video>"
            ],
            "text/plain": [
              "<IPython.core.display.HTML object>"
            ]
          },
          "metadata": {
            "tags": []
          }
        }
      ]
    },
    {
      "cell_type": "markdown",
      "metadata": {
        "id": "9Y8zg4V566qD"
      },
      "source": [
        "## Bonus: Train a RL Model in One Line\n",
        "\n",
        "The policy class to use will be inferred and the environment will be automatically created. This works because both are [registered](https://stable-baselines.readthedocs.io/en/master/guide/quickstart.html)."
      ]
    },
    {
      "cell_type": "code",
      "metadata": {
        "id": "iaOPfOrwWEP4",
        "colab": {
          "base_uri": "https://localhost:8080/"
        },
        "outputId": "17543692-a6f1-4277-f11c-9c45c6082a2b"
      },
      "source": [
        "model = PPO('MlpPolicy', \"CartPole-v1\", verbose=1).learn(1000)"
      ],
      "execution_count": 17,
      "outputs": [
        {
          "output_type": "stream",
          "text": [
            "Using cuda device\n",
            "Creating environment from the given name 'CartPole-v1'\n",
            "Wrapping the env in a DummyVecEnv.\n"
          ],
          "name": "stdout"
        }
      ]
    },
    {
      "cell_type": "code",
      "metadata": {
        "id": "Se8SHBN17Fy4"
      },
      "source": [
        ""
      ],
      "execution_count": 17,
      "outputs": []
    },
    {
      "cell_type": "markdown",
      "metadata": {
        "id": "FrI6f5fWnzp-"
      },
      "source": [
        "## Conclusion\n",
        "\n",
        "In this notebook we have seen:\n",
        "- how to define and train a RL model using stable baselines3, it takes only one line of code ;)\n"
      ]
    },
    {
      "cell_type": "code",
      "metadata": {
        "id": "73ji3gbNDkf7"
      },
      "source": [
        ""
      ],
      "execution_count": 17,
      "outputs": []
    }
  ]
}