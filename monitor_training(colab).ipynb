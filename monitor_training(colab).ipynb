{
  "nbformat": 4,
  "nbformat_minor": 0,
  "metadata": {
    "colab": {
      "name": "monitor_training.ipynb",
      "provenance": [],
      "collapsed_sections": [],
      "include_colab_link": true
    },
    "kernelspec": {
      "name": "python3",
      "display_name": "Python 3"
    },
    "accelerator": "GPU"
  },
  "cells": [
    {
      "cell_type": "markdown",
      "metadata": {
        "id": "view-in-github",
        "colab_type": "text"
      },
      "source": [
        "<a href=\"https://colab.research.google.com/github/StevenJokess/rl-colab-notebooks/blob/sb3/monitor_training(colab).ipynb\" target=\"_parent\"><img src=\"https://colab.research.google.com/assets/colab-badge.svg\" alt=\"Open In Colab\"/></a>"
      ]
    },
    {
      "cell_type": "markdown",
      "metadata": {
        "id": "hyyN-2qyK_T2"
      },
      "source": [
        "# Stable Baselines3 - Monitor Training and Plotting\n",
        "\n",
        "Github Repo: [https://github.com/DLR-RM/stable-baselines3](https://github.com/DLR-RM/stable-baselines3)\n",
        "\n",
        "\n",
        "[RL Baselines3 Zoo](https://github.com/DLR-RM/rl-baselines3-zoo) is a collection of pre-trained Reinforcement Learning agents using Stable-Baselines3.\n",
        "\n",
        "It also provides basic scripts for training, evaluating agents, tuning hyperparameters and recording videos.\n",
        "\n",
        "Documentation is available online: [https://stable-baselines3.readthedocs.io/](https://stable-baselines3.readthedocs.io/)\n",
        "\n",
        "## Install Dependencies and Stable Baselines Using Pip\n",
        "\n",
        "\n",
        "```\n",
        "pip install stable-baselines3[extra]\n",
        "```"
      ]
    },
    {
      "cell_type": "code",
      "metadata": {
        "id": "gWskDE2c9WoN",
        "colab": {
          "base_uri": "https://localhost:8080/"
        },
        "outputId": "ad0a920b-d36a-445a-9013-dfda84c5769b"
      },
      "source": [
        "!apt install swig cmake\n",
        "!pip install stable-baselines3[extra] box2d box2d-kengz"
      ],
      "execution_count": 1,
      "outputs": [
        {
          "output_type": "stream",
          "text": [
            "Reading package lists... Done\n",
            "Building dependency tree       \n",
            "Reading state information... Done\n",
            "cmake is already the newest version (3.10.2-1ubuntu2.18.04.1).\n",
            "Suggested packages:\n",
            "  swig-doc swig-examples swig3.0-examples swig3.0-doc\n",
            "The following NEW packages will be installed:\n",
            "  swig swig3.0\n",
            "0 upgraded, 2 newly installed, 0 to remove and 16 not upgraded.\n",
            "Need to get 1,100 kB of archives.\n",
            "After this operation, 5,822 kB of additional disk space will be used.\n",
            "Get:1 http://archive.ubuntu.com/ubuntu bionic/universe amd64 swig3.0 amd64 3.0.12-1 [1,094 kB]\n",
            "Get:2 http://archive.ubuntu.com/ubuntu bionic/universe amd64 swig amd64 3.0.12-1 [6,460 B]\n",
            "Fetched 1,100 kB in 1s (945 kB/s)\n",
            "Selecting previously unselected package swig3.0.\n",
            "(Reading database ... 145483 files and directories currently installed.)\n",
            "Preparing to unpack .../swig3.0_3.0.12-1_amd64.deb ...\n",
            "Unpacking swig3.0 (3.0.12-1) ...\n",
            "Selecting previously unselected package swig.\n",
            "Preparing to unpack .../swig_3.0.12-1_amd64.deb ...\n",
            "Unpacking swig (3.0.12-1) ...\n",
            "Setting up swig3.0 (3.0.12-1) ...\n",
            "Setting up swig (3.0.12-1) ...\n",
            "Processing triggers for man-db (2.8.3-2ubuntu0.1) ...\n",
            "Collecting stable-baselines3[extra]\n",
            "\u001b[?25l  Downloading https://files.pythonhosted.org/packages/76/7c/ec89fd9a51c2ff640f150479069be817136c02f02349b5dd27a6e3bb8b3d/stable_baselines3-0.10.0-py3-none-any.whl (145kB)\n",
            "\u001b[K     |████████████████████████████████| 153kB 6.7MB/s \n",
            "\u001b[?25hCollecting box2d\n",
            "\u001b[?25l  Downloading https://files.pythonhosted.org/packages/a9/0b/d48d42dd9e19ce83a3fb4eee074e785b6c6ea612a2244dc2ef69427d338b/Box2D-2.3.10-cp36-cp36m-manylinux1_x86_64.whl (1.3MB)\n",
            "\u001b[K     |████████████████████████████████| 1.3MB 28.8MB/s \n",
            "\u001b[?25hCollecting box2d-kengz\n",
            "\u001b[?25l  Downloading https://files.pythonhosted.org/packages/81/20/51d6c0c87f7642efb709c518fb0ca8e5eab068259588552c41da5926ae27/Box2D-kengz-2.3.3.tar.gz (425kB)\n",
            "\u001b[K     |████████████████████████████████| 430kB 60.6MB/s \n",
            "\u001b[?25hRequirement already satisfied: gym>=0.17 in /usr/local/lib/python3.6/dist-packages (from stable-baselines3[extra]) (0.17.3)\n",
            "Requirement already satisfied: cloudpickle in /usr/local/lib/python3.6/dist-packages (from stable-baselines3[extra]) (1.3.0)\n",
            "Requirement already satisfied: numpy in /usr/local/lib/python3.6/dist-packages (from stable-baselines3[extra]) (1.19.5)\n",
            "Requirement already satisfied: matplotlib in /usr/local/lib/python3.6/dist-packages (from stable-baselines3[extra]) (3.2.2)\n",
            "Requirement already satisfied: pandas in /usr/local/lib/python3.6/dist-packages (from stable-baselines3[extra]) (1.1.5)\n",
            "Requirement already satisfied: torch>=1.4.0 in /usr/local/lib/python3.6/dist-packages (from stable-baselines3[extra]) (1.7.0+cu101)\n",
            "Requirement already satisfied: opencv-python; extra == \"extra\" in /usr/local/lib/python3.6/dist-packages (from stable-baselines3[extra]) (4.1.2.30)\n",
            "Requirement already satisfied: pillow; extra == \"extra\" in /usr/local/lib/python3.6/dist-packages (from stable-baselines3[extra]) (7.0.0)\n",
            "Requirement already satisfied: atari-py~=0.2.0; extra == \"extra\" in /usr/local/lib/python3.6/dist-packages (from stable-baselines3[extra]) (0.2.6)\n",
            "Requirement already satisfied: psutil; extra == \"extra\" in /usr/local/lib/python3.6/dist-packages (from stable-baselines3[extra]) (5.4.8)\n",
            "Requirement already satisfied: tensorboard; extra == \"extra\" in /usr/local/lib/python3.6/dist-packages (from stable-baselines3[extra]) (2.4.0)\n",
            "Requirement already satisfied: scipy in /usr/local/lib/python3.6/dist-packages (from gym>=0.17->stable-baselines3[extra]) (1.4.1)\n",
            "Requirement already satisfied: pyglet<=1.5.0,>=1.4.0 in /usr/local/lib/python3.6/dist-packages (from gym>=0.17->stable-baselines3[extra]) (1.5.0)\n",
            "Requirement already satisfied: pyparsing!=2.0.4,!=2.1.2,!=2.1.6,>=2.0.1 in /usr/local/lib/python3.6/dist-packages (from matplotlib->stable-baselines3[extra]) (2.4.7)\n",
            "Requirement already satisfied: kiwisolver>=1.0.1 in /usr/local/lib/python3.6/dist-packages (from matplotlib->stable-baselines3[extra]) (1.3.1)\n",
            "Requirement already satisfied: python-dateutil>=2.1 in /usr/local/lib/python3.6/dist-packages (from matplotlib->stable-baselines3[extra]) (2.8.1)\n",
            "Requirement already satisfied: cycler>=0.10 in /usr/local/lib/python3.6/dist-packages (from matplotlib->stable-baselines3[extra]) (0.10.0)\n",
            "Requirement already satisfied: pytz>=2017.2 in /usr/local/lib/python3.6/dist-packages (from pandas->stable-baselines3[extra]) (2018.9)\n",
            "Requirement already satisfied: future in /usr/local/lib/python3.6/dist-packages (from torch>=1.4.0->stable-baselines3[extra]) (0.16.0)\n",
            "Requirement already satisfied: dataclasses in /usr/local/lib/python3.6/dist-packages (from torch>=1.4.0->stable-baselines3[extra]) (0.8)\n",
            "Requirement already satisfied: typing-extensions in /usr/local/lib/python3.6/dist-packages (from torch>=1.4.0->stable-baselines3[extra]) (3.7.4.3)\n",
            "Requirement already satisfied: six in /usr/local/lib/python3.6/dist-packages (from atari-py~=0.2.0; extra == \"extra\"->stable-baselines3[extra]) (1.15.0)\n",
            "Requirement already satisfied: google-auth<2,>=1.6.3 in /usr/local/lib/python3.6/dist-packages (from tensorboard; extra == \"extra\"->stable-baselines3[extra]) (1.17.2)\n",
            "Requirement already satisfied: markdown>=2.6.8 in /usr/local/lib/python3.6/dist-packages (from tensorboard; extra == \"extra\"->stable-baselines3[extra]) (3.3.3)\n",
            "Requirement already satisfied: google-auth-oauthlib<0.5,>=0.4.1 in /usr/local/lib/python3.6/dist-packages (from tensorboard; extra == \"extra\"->stable-baselines3[extra]) (0.4.2)\n",
            "Requirement already satisfied: protobuf>=3.6.0 in /usr/local/lib/python3.6/dist-packages (from tensorboard; extra == \"extra\"->stable-baselines3[extra]) (3.12.4)\n",
            "Requirement already satisfied: requests<3,>=2.21.0 in /usr/local/lib/python3.6/dist-packages (from tensorboard; extra == \"extra\"->stable-baselines3[extra]) (2.23.0)\n",
            "Requirement already satisfied: wheel>=0.26; python_version >= \"3\" in /usr/local/lib/python3.6/dist-packages (from tensorboard; extra == \"extra\"->stable-baselines3[extra]) (0.36.2)\n",
            "Requirement already satisfied: absl-py>=0.4 in /usr/local/lib/python3.6/dist-packages (from tensorboard; extra == \"extra\"->stable-baselines3[extra]) (0.10.0)\n",
            "Requirement already satisfied: setuptools>=41.0.0 in /usr/local/lib/python3.6/dist-packages (from tensorboard; extra == \"extra\"->stable-baselines3[extra]) (51.1.1)\n",
            "Requirement already satisfied: werkzeug>=0.11.15 in /usr/local/lib/python3.6/dist-packages (from tensorboard; extra == \"extra\"->stable-baselines3[extra]) (1.0.1)\n",
            "Requirement already satisfied: grpcio>=1.24.3 in /usr/local/lib/python3.6/dist-packages (from tensorboard; extra == \"extra\"->stable-baselines3[extra]) (1.32.0)\n",
            "Requirement already satisfied: tensorboard-plugin-wit>=1.6.0 in /usr/local/lib/python3.6/dist-packages (from tensorboard; extra == \"extra\"->stable-baselines3[extra]) (1.7.0)\n",
            "Requirement already satisfied: rsa<5,>=3.1.4; python_version >= \"3\" in /usr/local/lib/python3.6/dist-packages (from google-auth<2,>=1.6.3->tensorboard; extra == \"extra\"->stable-baselines3[extra]) (4.6)\n",
            "Requirement already satisfied: pyasn1-modules>=0.2.1 in /usr/local/lib/python3.6/dist-packages (from google-auth<2,>=1.6.3->tensorboard; extra == \"extra\"->stable-baselines3[extra]) (0.2.8)\n",
            "Requirement already satisfied: cachetools<5.0,>=2.0.0 in /usr/local/lib/python3.6/dist-packages (from google-auth<2,>=1.6.3->tensorboard; extra == \"extra\"->stable-baselines3[extra]) (4.2.0)\n",
            "Requirement already satisfied: importlib-metadata; python_version < \"3.8\" in /usr/local/lib/python3.6/dist-packages (from markdown>=2.6.8->tensorboard; extra == \"extra\"->stable-baselines3[extra]) (3.3.0)\n",
            "Requirement already satisfied: requests-oauthlib>=0.7.0 in /usr/local/lib/python3.6/dist-packages (from google-auth-oauthlib<0.5,>=0.4.1->tensorboard; extra == \"extra\"->stable-baselines3[extra]) (1.3.0)\n",
            "Requirement already satisfied: urllib3!=1.25.0,!=1.25.1,<1.26,>=1.21.1 in /usr/local/lib/python3.6/dist-packages (from requests<3,>=2.21.0->tensorboard; extra == \"extra\"->stable-baselines3[extra]) (1.24.3)\n",
            "Requirement already satisfied: chardet<4,>=3.0.2 in /usr/local/lib/python3.6/dist-packages (from requests<3,>=2.21.0->tensorboard; extra == \"extra\"->stable-baselines3[extra]) (3.0.4)\n",
            "Requirement already satisfied: certifi>=2017.4.17 in /usr/local/lib/python3.6/dist-packages (from requests<3,>=2.21.0->tensorboard; extra == \"extra\"->stable-baselines3[extra]) (2020.12.5)\n",
            "Requirement already satisfied: idna<3,>=2.5 in /usr/local/lib/python3.6/dist-packages (from requests<3,>=2.21.0->tensorboard; extra == \"extra\"->stable-baselines3[extra]) (2.10)\n",
            "Requirement already satisfied: pyasn1>=0.1.3 in /usr/local/lib/python3.6/dist-packages (from rsa<5,>=3.1.4; python_version >= \"3\"->google-auth<2,>=1.6.3->tensorboard; extra == \"extra\"->stable-baselines3[extra]) (0.4.8)\n",
            "Requirement already satisfied: zipp>=0.5 in /usr/local/lib/python3.6/dist-packages (from importlib-metadata; python_version < \"3.8\"->markdown>=2.6.8->tensorboard; extra == \"extra\"->stable-baselines3[extra]) (3.4.0)\n",
            "Requirement already satisfied: oauthlib>=3.0.0 in /usr/local/lib/python3.6/dist-packages (from requests-oauthlib>=0.7.0->google-auth-oauthlib<0.5,>=0.4.1->tensorboard; extra == \"extra\"->stable-baselines3[extra]) (3.1.0)\n",
            "Building wheels for collected packages: box2d-kengz\n",
            "  Building wheel for box2d-kengz (setup.py) ... \u001b[?25l\u001b[?25hdone\n",
            "  Created wheel for box2d-kengz: filename=Box2D_kengz-2.3.3-cp36-cp36m-linux_x86_64.whl size=2013497 sha256=43f9beef6cf25de83453ee4178dd65139cb5e8ebee4c0db840b4344e37c266ef\n",
            "  Stored in directory: /root/.cache/pip/wheels/75/ae/e5/8bc678d262caad94659c199c540550e59d03dd3bd3684d4f1a\n",
            "Successfully built box2d-kengz\n",
            "Installing collected packages: stable-baselines3, box2d, box2d-kengz\n",
            "Successfully installed box2d-2.3.10 box2d-kengz-2.3.3 stable-baselines3-0.10.0\n"
          ],
          "name": "stdout"
        }
      ]
    },
    {
      "cell_type": "markdown",
      "metadata": {
        "id": "FtY8FhliLsGm"
      },
      "source": [
        "## Import policy, RL agent, Wrappers"
      ]
    },
    {
      "cell_type": "code",
      "metadata": {
        "id": "BIedd7Pz9sOs"
      },
      "source": [
        "import os\n",
        "\n",
        "import gym\n",
        "import numpy as np\n",
        "import matplotlib.pyplot as plt\n",
        "\n",
        "from stable_baselines3 import TD3\n",
        "from stable_baselines3.common.monitor import Monitor\n",
        "from stable_baselines3.common.results_plotter import load_results, ts2xy\n",
        "from stable_baselines3.common.noise import NormalActionNoise\n",
        "from stable_baselines3.common.callbacks import BaseCallback"
      ],
      "execution_count": 2,
      "outputs": []
    },
    {
      "cell_type": "markdown",
      "metadata": {
        "id": "RapkYvTXL7Cd"
      },
      "source": [
        "## Define a Callback Function\n"
      ]
    },
    {
      "cell_type": "code",
      "metadata": {
        "id": "pUWGZp3i9wyf"
      },
      "source": [
        "class SaveOnBestTrainingRewardCallback(BaseCallback):\n",
        "    \"\"\"\n",
        "    Callback for saving a model (the check is done every ``check_freq`` steps)\n",
        "    based on the training reward (in practice, we recommend using ``EvalCallback``).\n",
        "\n",
        "    :param check_freq: (int)\n",
        "    :param log_dir: (str) Path to the folder where the model will be saved.\n",
        "      It must contains the file created by the ``Monitor`` wrapper.\n",
        "    :param verbose: (int)\n",
        "    \"\"\"\n",
        "    def __init__(self, check_freq: int, log_dir: str, verbose=1):\n",
        "        super(SaveOnBestTrainingRewardCallback, self).__init__(verbose)\n",
        "        self.check_freq = check_freq\n",
        "        self.log_dir = log_dir\n",
        "        self.save_path = os.path.join(log_dir, 'best_model')\n",
        "        self.best_mean_reward = -np.inf\n",
        "\n",
        "    def _init_callback(self) -> None:\n",
        "        # Create folder if needed\n",
        "        if self.save_path is not None:\n",
        "            os.makedirs(self.save_path, exist_ok=True)\n",
        "\n",
        "    def _on_step(self) -> bool:\n",
        "        if self.n_calls % self.check_freq == 0:\n",
        "\n",
        "          # Retrieve training reward\n",
        "          x, y = ts2xy(load_results(self.log_dir), 'timesteps')\n",
        "          if len(x) > 0:\n",
        "              # Mean training reward over the last 100 episodes\n",
        "              mean_reward = np.mean(y[-100:])\n",
        "              if self.verbose > 0:\n",
        "                print(f\"Num timesteps: {self.num_timesteps}\")\n",
        "                print(f\"Best mean reward: {self.best_mean_reward:.2f} - Last mean reward per episode: {mean_reward:.2f}\")\n",
        "\n",
        "              # New best model, you could save the agent here\n",
        "              if mean_reward > self.best_mean_reward:\n",
        "                  self.best_mean_reward = mean_reward\n",
        "                  # Example for saving best model\n",
        "                  if self.verbose > 0:\n",
        "                    print(f\"Saving new best model to {self.save_path}.zip\")\n",
        "                  self.model.save(self.save_path)\n",
        "\n",
        "        return True"
      ],
      "execution_count": 3,
      "outputs": []
    },
    {
      "cell_type": "markdown",
      "metadata": {
        "id": "7c8VHsiXC7dL"
      },
      "source": [
        "## Create and wrap the environment\n",
        "\n",
        "We will be using Lunar Lander environment with continuous actions"
      ]
    },
    {
      "cell_type": "code",
      "metadata": {
        "id": "kmxIq5UeC3Nj"
      },
      "source": [
        "# Create log dir\n",
        "log_dir = \"/tmp/gym/\"\n",
        "os.makedirs(log_dir, exist_ok=True)\n",
        "\n",
        "# Create and wrap the environment\n",
        "env = gym.make('LunarLanderContinuous-v2')\n",
        "# Logs will be saved in log_dir/monitor.csv\n",
        "env = Monitor(env, log_dir)"
      ],
      "execution_count": 4,
      "outputs": []
    },
    {
      "cell_type": "markdown",
      "metadata": {
        "id": "80OxZ_uMDd4J"
      },
      "source": [
        "## Define and train the TD3 agent\n",
        "\n",
        "TD3 is the successor of DDPG (cf [Documentation](https://stable-baselines3.readthedocs.io/))"
      ]
    },
    {
      "cell_type": "code",
      "metadata": {
        "id": "iaOPfOrwWEP4",
        "colab": {
          "base_uri": "https://localhost:8080/"
        },
        "outputId": "44cc2f57-60f6-4931-c280-7b45a68915ed"
      },
      "source": [
        "# Create action noise because TD3 and DDPG use a deterministic policy\n",
        "n_actions = env.action_space.shape[-1]\n",
        "action_noise = NormalActionNoise(mean=np.zeros(n_actions), sigma=0.1 * np.ones(n_actions))\n",
        "# Create the callback: check every 1000 steps\n",
        "callback = SaveOnBestTrainingRewardCallback(check_freq=1000, log_dir=log_dir)\n",
        "# Create RL model\n",
        "model = TD3('MlpPolicy', env, action_noise=action_noise, verbose=0)\n",
        "# Train the agent\n",
        "model.learn(total_timesteps=int(5e4), callback=callback)"
      ],
      "execution_count": 5,
      "outputs": [
        {
          "output_type": "stream",
          "text": [
            "Num timesteps: 1000\n",
            "Best mean reward: -inf - Last mean reward per episode: -723.93\n",
            "Saving new best model to /tmp/gym/best_model.zip\n",
            "Num timesteps: 2000\n",
            "Best mean reward: -723.93 - Last mean reward per episode: -563.44\n",
            "Saving new best model to /tmp/gym/best_model.zip\n",
            "Num timesteps: 3000\n",
            "Best mean reward: -563.44 - Last mean reward per episode: -512.51\n",
            "Saving new best model to /tmp/gym/best_model.zip\n",
            "Num timesteps: 4000\n",
            "Best mean reward: -512.51 - Last mean reward per episode: -457.83\n",
            "Saving new best model to /tmp/gym/best_model.zip\n",
            "Num timesteps: 5000\n",
            "Best mean reward: -457.83 - Last mean reward per episode: -448.77\n",
            "Saving new best model to /tmp/gym/best_model.zip\n",
            "Num timesteps: 6000\n",
            "Best mean reward: -448.77 - Last mean reward per episode: -428.74\n",
            "Saving new best model to /tmp/gym/best_model.zip\n",
            "Num timesteps: 7000\n",
            "Best mean reward: -428.74 - Last mean reward per episode: -414.25\n",
            "Saving new best model to /tmp/gym/best_model.zip\n",
            "Num timesteps: 8000\n",
            "Best mean reward: -414.25 - Last mean reward per episode: -412.08\n",
            "Saving new best model to /tmp/gym/best_model.zip\n",
            "Num timesteps: 9000\n",
            "Best mean reward: -412.08 - Last mean reward per episode: -397.30\n",
            "Saving new best model to /tmp/gym/best_model.zip\n",
            "Num timesteps: 10000\n",
            "Best mean reward: -397.30 - Last mean reward per episode: -380.41\n",
            "Saving new best model to /tmp/gym/best_model.zip\n",
            "Num timesteps: 11000\n",
            "Best mean reward: -380.41 - Last mean reward per episode: -375.71\n",
            "Saving new best model to /tmp/gym/best_model.zip\n",
            "Num timesteps: 12000\n",
            "Best mean reward: -375.71 - Last mean reward per episode: -373.94\n",
            "Saving new best model to /tmp/gym/best_model.zip\n",
            "Num timesteps: 13000\n",
            "Best mean reward: -373.94 - Last mean reward per episode: -365.31\n",
            "Saving new best model to /tmp/gym/best_model.zip\n",
            "Num timesteps: 14000\n",
            "Best mean reward: -365.31 - Last mean reward per episode: -350.53\n",
            "Saving new best model to /tmp/gym/best_model.zip\n",
            "Num timesteps: 15000\n",
            "Best mean reward: -350.53 - Last mean reward per episode: -334.86\n",
            "Saving new best model to /tmp/gym/best_model.zip\n",
            "Num timesteps: 16000\n",
            "Best mean reward: -334.86 - Last mean reward per episode: -322.92\n",
            "Saving new best model to /tmp/gym/best_model.zip\n",
            "Num timesteps: 17000\n",
            "Best mean reward: -322.92 - Last mean reward per episode: -305.77\n",
            "Saving new best model to /tmp/gym/best_model.zip\n",
            "Num timesteps: 18000\n",
            "Best mean reward: -305.77 - Last mean reward per episode: -299.45\n",
            "Saving new best model to /tmp/gym/best_model.zip\n",
            "Num timesteps: 19000\n",
            "Best mean reward: -299.45 - Last mean reward per episode: -291.48\n",
            "Saving new best model to /tmp/gym/best_model.zip\n",
            "Num timesteps: 20000\n",
            "Best mean reward: -291.48 - Last mean reward per episode: -285.17\n",
            "Saving new best model to /tmp/gym/best_model.zip\n",
            "Num timesteps: 21000\n",
            "Best mean reward: -285.17 - Last mean reward per episode: -281.51\n",
            "Saving new best model to /tmp/gym/best_model.zip\n",
            "Num timesteps: 22000\n",
            "Best mean reward: -281.51 - Last mean reward per episode: -277.56\n",
            "Saving new best model to /tmp/gym/best_model.zip\n",
            "Num timesteps: 23000\n",
            "Best mean reward: -277.56 - Last mean reward per episode: -272.91\n",
            "Saving new best model to /tmp/gym/best_model.zip\n",
            "Num timesteps: 24000\n",
            "Best mean reward: -272.91 - Last mean reward per episode: -270.86\n",
            "Saving new best model to /tmp/gym/best_model.zip\n",
            "Num timesteps: 25000\n",
            "Best mean reward: -270.86 - Last mean reward per episode: -264.08\n",
            "Saving new best model to /tmp/gym/best_model.zip\n",
            "Num timesteps: 26000\n",
            "Best mean reward: -264.08 - Last mean reward per episode: -259.50\n",
            "Saving new best model to /tmp/gym/best_model.zip\n",
            "Num timesteps: 27000\n",
            "Best mean reward: -259.50 - Last mean reward per episode: -248.10\n",
            "Saving new best model to /tmp/gym/best_model.zip\n",
            "Num timesteps: 28000\n",
            "Best mean reward: -248.10 - Last mean reward per episode: -207.14\n",
            "Saving new best model to /tmp/gym/best_model.zip\n",
            "Num timesteps: 29000\n",
            "Best mean reward: -207.14 - Last mean reward per episode: -193.25\n",
            "Saving new best model to /tmp/gym/best_model.zip\n",
            "Num timesteps: 30000\n",
            "Best mean reward: -193.25 - Last mean reward per episode: -187.78\n",
            "Saving new best model to /tmp/gym/best_model.zip\n",
            "Num timesteps: 31000\n",
            "Best mean reward: -187.78 - Last mean reward per episode: -182.79\n",
            "Saving new best model to /tmp/gym/best_model.zip\n",
            "Num timesteps: 32000\n",
            "Best mean reward: -182.79 - Last mean reward per episode: -177.61\n",
            "Saving new best model to /tmp/gym/best_model.zip\n",
            "Num timesteps: 33000\n",
            "Best mean reward: -177.61 - Last mean reward per episode: -173.64\n",
            "Saving new best model to /tmp/gym/best_model.zip\n",
            "Num timesteps: 34000\n",
            "Best mean reward: -173.64 - Last mean reward per episode: -169.25\n",
            "Saving new best model to /tmp/gym/best_model.zip\n",
            "Num timesteps: 35000\n",
            "Best mean reward: -169.25 - Last mean reward per episode: -167.96\n",
            "Saving new best model to /tmp/gym/best_model.zip\n",
            "Num timesteps: 36000\n",
            "Best mean reward: -167.96 - Last mean reward per episode: -163.22\n",
            "Saving new best model to /tmp/gym/best_model.zip\n",
            "Num timesteps: 37000\n",
            "Best mean reward: -163.22 - Last mean reward per episode: -162.56\n",
            "Saving new best model to /tmp/gym/best_model.zip\n",
            "Num timesteps: 38000\n",
            "Best mean reward: -162.56 - Last mean reward per episode: -162.32\n",
            "Saving new best model to /tmp/gym/best_model.zip\n",
            "Num timesteps: 39000\n",
            "Best mean reward: -162.32 - Last mean reward per episode: -157.42\n",
            "Saving new best model to /tmp/gym/best_model.zip\n",
            "Num timesteps: 40000\n",
            "Best mean reward: -157.42 - Last mean reward per episode: -150.56\n",
            "Saving new best model to /tmp/gym/best_model.zip\n",
            "Num timesteps: 41000\n",
            "Best mean reward: -150.56 - Last mean reward per episode: -139.11\n",
            "Saving new best model to /tmp/gym/best_model.zip\n",
            "Num timesteps: 42000\n",
            "Best mean reward: -139.11 - Last mean reward per episode: -137.65\n",
            "Saving new best model to /tmp/gym/best_model.zip\n",
            "Num timesteps: 43000\n",
            "Best mean reward: -137.65 - Last mean reward per episode: -135.64\n",
            "Saving new best model to /tmp/gym/best_model.zip\n",
            "Num timesteps: 44000\n",
            "Best mean reward: -135.64 - Last mean reward per episode: -131.86\n",
            "Saving new best model to /tmp/gym/best_model.zip\n",
            "Num timesteps: 45000\n",
            "Best mean reward: -131.86 - Last mean reward per episode: -129.63\n",
            "Saving new best model to /tmp/gym/best_model.zip\n",
            "Num timesteps: 46000\n",
            "Best mean reward: -129.63 - Last mean reward per episode: -123.33\n",
            "Saving new best model to /tmp/gym/best_model.zip\n",
            "Num timesteps: 47000\n",
            "Best mean reward: -123.33 - Last mean reward per episode: -120.64\n",
            "Saving new best model to /tmp/gym/best_model.zip\n",
            "Num timesteps: 48000\n",
            "Best mean reward: -120.64 - Last mean reward per episode: -115.30\n",
            "Saving new best model to /tmp/gym/best_model.zip\n",
            "Num timesteps: 49000\n",
            "Best mean reward: -115.30 - Last mean reward per episode: -111.39\n",
            "Saving new best model to /tmp/gym/best_model.zip\n",
            "Num timesteps: 50000\n",
            "Best mean reward: -111.39 - Last mean reward per episode: -111.97\n"
          ],
          "name": "stdout"
        },
        {
          "output_type": "execute_result",
          "data": {
            "text/plain": [
              "<stable_baselines3.td3.td3.TD3 at 0x7fc5da1cf6a0>"
            ]
          },
          "metadata": {
            "tags": []
          },
          "execution_count": 5
        }
      ]
    },
    {
      "cell_type": "markdown",
      "metadata": {
        "id": "qQ4bxRQZDuk1"
      },
      "source": [
        "## Plotting helpers\n",
        "\n",
        "Stable Baselines3 has some built-in plotting helper, that you can find in `stable_baselines3.common.results_plotter`. However, to show how to do it yourself, we are going to use custom plotting functions. "
      ]
    },
    {
      "cell_type": "code",
      "metadata": {
        "id": "h_kMEHmJm3P3",
        "colab": {
          "base_uri": "https://localhost:8080/",
          "height": 153
        },
        "outputId": "a68b1c1a-ba60-40ed-eec1-02ed985da1aa"
      },
      "source": [
        "from stable_baselines3.common import results_plotter\n",
        "\n",
        "# Helper from the library\n",
        "results_plotter.plot_results([log_dir], 1e5, results_plotter.X_TIMESTEPS, \"TD3 LunarLander\")"
      ],
      "execution_count": 6,
      "outputs": [
        {
          "output_type": "display_data",
          "data": {
            "image/png": "[encoded data removed]",
            "text/plain": [
              "<Figure size 576x144 with 1 Axes>"
            ]
          },
          "metadata": {
            "tags": [],
            "needs_background": "light"
          }
        }
      ]
    },
    {
      "cell_type": "code",
      "metadata": {
        "id": "mPXYbV39DiCj"
      },
      "source": [
        "def moving_average(values, window):\n",
        "    \"\"\"\n",
        "    Smooth values by doing a moving average\n",
        "    :param values: (numpy array)\n",
        "    :param window: (int)\n",
        "    :return: (numpy array)\n",
        "    \"\"\"\n",
        "    weights = np.repeat(1.0, window) / window\n",
        "    return np.convolve(values, weights, 'valid')\n",
        "\n",
        "\n",
        "def plot_results(log_folder, title='Learning Curve'):\n",
        "    \"\"\"\n",
        "    plot the results\n",
        "\n",
        "    :param log_folder: (str) the save location of the results to plot\n",
        "    :param title: (str) the title of the task to plot\n",
        "    \"\"\"\n",
        "    x, y = ts2xy(load_results(log_folder), 'timesteps')\n",
        "    y = moving_average(y, window=50)\n",
        "    # Truncate x\n",
        "    x = x[len(x) - len(y):]\n",
        "\n",
        "    fig = plt.figure(title)\n",
        "    plt.plot(x, y)\n",
        "    plt.xlabel('Number of Timesteps')\n",
        "    plt.ylabel('Rewards')\n",
        "    plt.title(title + \" Smoothed\")\n",
        "    plt.show()\n"
      ],
      "execution_count": 7,
      "outputs": []
    },
    {
      "cell_type": "code",
      "metadata": {
        "id": "CQXx7HiSDt7_",
        "colab": {
          "base_uri": "https://localhost:8080/",
          "height": 295
        },
        "outputId": "05f7109f-75d7-47da-89b7-ced4f067dcf7"
      },
      "source": [
        "plot_results(log_dir)"
      ],
      "execution_count": 8,
      "outputs": [
        {
          "output_type": "display_data",
          "data": {
            "image/png": "[encoded data removed]",
            "text/plain": [
              "<Figure size 432x288 with 1 Axes>"
            ]
          },
          "metadata": {
            "tags": [],
            "needs_background": "light"
          }
        }
      ]
    },
    {
      "cell_type": "code",
      "metadata": {
        "id": "PQmsSZUHKNRG"
      },
      "source": [
        ""
      ],
      "execution_count": 8,
      "outputs": []
    }
  ]
}